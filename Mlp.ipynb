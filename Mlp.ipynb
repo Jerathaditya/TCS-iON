{
  "nbformat": 4,
  "nbformat_minor": 0,
  "metadata": {
    "colab": {
      "name": "Mlp.ipynb",
      "provenance": [],
      "collapsed_sections": [],
      "authorship_tag": "ABX9TyOVBcZXcxJWDm3UnYUqYDSv",
      "include_colab_link": true
    },
    "kernelspec": {
      "display_name": "Python 3",
      "name": "python3"
    },
    "language_info": {
      "name": "python"
    }
  },
  "cells": [
    {
      "cell_type": "markdown",
      "metadata": {
        "id": "view-in-github",
        "colab_type": "text"
      },
      "source": [
        "<a href=\"https://colab.research.google.com/github/Jerathaditya/TCS-iON/blob/main/Mlp.ipynb\" target=\"_parent\"><img src=\"https://colab.research.google.com/assets/colab-badge.svg\" alt=\"Open In Colab\"/></a>"
      ]
    },
    {
      "cell_type": "code",
      "metadata": {
        "colab": {
          "base_uri": "https://localhost:8080/"
        },
        "id": "JyGiec0FuJc1",
        "outputId": "b18a5763-cbdd-4225-c066-9503af02f055"
      },
      "source": [
        "import numpy as np\n",
        "\n",
        "from keras.datasets import fashion_mnist\n",
        "\n",
        "from keras.utils.np_utils import to_categorical\n",
        "\n",
        "(trainX,trainy),(testX,testy)=fashion_mnist.load_data()\n",
        "\n",
        "def load_dataset():\n",
        "    (trainX,trainy),(testX,testy)=fashion_mnist.load_data()\n",
        "    trainX = trainX.reshape((trainX.shape[0], 28, 28, 1))\n",
        "    testX = testX.reshape((testX.shape[0], 28, 28, 1))\n",
        "    trainy = to_categorical(trainy)\n",
        "    testy = to_categorical(testy)\n",
        "    return trainX, trainy, testX, testy\n",
        "\n",
        "seed = 9\n",
        "from sklearn.model_selection import StratifiedShuffleSplit\n",
        "\n",
        "data_split = StratifiedShuffleSplit(test_size = 0.5, random_state = seed)\n",
        "for train_index, test_index in data_split.split(trainX, trainy):\n",
        "    split_data_92, split_data_8 = trainX[train_index], trainX[test_index]\n",
        "    split_label_92, split_label_8 = trainy[train_index], trainy[test_index]\n",
        "train_test_split = StratifiedShuffleSplit(test_size = 0.3, random_state = seed)\n",
        "\n",
        "for train_index, test_index in train_test_split.split(split_data_8, split_label_8):\n",
        "    train_data_70, test_data_30 = split_data_8[train_index], split_data_8[test_index]\n",
        "    train_label_70, test_label_30 = split_label_8[train_index], split_label_8[test_index]\n",
        "\n",
        "train_data = train_data_70\n",
        "train_label = train_label_70\n",
        "\n",
        "test_data = test_data_30\n",
        "test_label = test_label_30\n",
        "\n",
        "print('train_data : ', train_data.shape)\n",
        "print('train_label : ', train_label.shape)\n",
        "print('test_data : ', test_data.shape)\n",
        "print('test_label : ', test_label.shape)\n",
        "\n",
        "train_data = train_data.astype('float64') / 255.0\n",
        "test_data = test_data.astype('float64') / 255.0\n",
        "\n",
        "print('train_data : ', train_data.shape)\n",
        "print('test_data : ', test_data.shape)\n",
        "\n",
        "train_data_flat = train_data.reshape(train_data.shape[0], -1) \n",
        "test_data_flat = test_data.reshape(test_data.shape[0], -1)\n",
        "\n",
        "print('train_data_flat : ', train_data_flat.shape)\n",
        "print('test_data_flat : ', test_data_flat.shape)\n",
        "\n",
        "train_data_flat_t = train_data_flat\n",
        "test_data_flat_t = test_data_flat\n",
        "\n",
        "from sklearn.decomposition import PCA\n",
        "train_data_pca = PCA(n_components = min(train_data_flat_t.shape)).fit_transform(train_data_flat_t)\n",
        "test_data_pca = PCA(n_components = min(test_data_flat_t.shape)).fit_transform(test_data_flat_t)\n",
        "\n",
        "print(train_data_pca.shape)\n",
        "print(test_data_pca.shape)\n",
        "\n",
        "\n",
        "\n",
        "from skimage import color\n",
        "def svdFeatures(input_data):\n",
        "    svdArray_input_data = []\n",
        "    size = input_data.shape[0]\n",
        "    for i in range(0, size):\n",
        "\n",
        "        U, s, V = np.linalg.svd(input_data[i], full_matrices = False)\n",
        "        S = [s[i] for i in range(28)]\n",
        "        svdArray_input_data.append(s)\n",
        "        svdMatrix_input_data = np.matrix(svdArray_input_data)\n",
        "    return svdMatrix_input_data\n",
        "\n",
        "train_data_svd = svdFeatures(train_data)\n",
        "test_data_svd = svdFeatures(test_data)\n",
        "\n",
        "print(train_data_svd.shape)\n",
        "print(test_data_svd.shape)\n",
        "        \n",
        "        \n",
        "    \n",
        "\n",
        "from sklearn.neural_network import MLPClassifier\n",
        "from sklearn import metrics\n",
        "def train_test(train_dataset, test_dataset):\n",
        "    \n",
        "    MLP = MLPClassifier()\n",
        "    train = MLP.fit(train_dataset, train_label)\n",
        "    \n",
        "    mlp_predict = MLP.predict(test_dataset)\n",
        "    score = MLP.score(test_dataset, test_label)\n",
        "    print('score : ', score)\n",
        "    conf_matrix = metrics.confusion_matrix(test_label, mlp_predict)\n",
        "    print('Confusion Matrix: ', conf_matrix)\n",
        "    \n",
        "\n",
        "train_test(train_data_flat_t, test_data_flat_t)\n",
        "\n",
        "train_test(train_data_pca, test_data_pca)\n",
        "\n",
        "\n",
        "train_test(train_data_svd, test_data_svd)\n",
        "\n"
      ],
      "execution_count": null,
      "outputs": [
        {
          "output_type": "stream",
          "text": [
            "train_data :  (21000, 28, 28)\n",
            "train_label :  (21000,)\n",
            "test_data :  (9000, 28, 28)\n",
            "test_label :  (9000,)\n",
            "train_data :  (21000, 28, 28)\n",
            "test_data :  (9000, 28, 28)\n",
            "train_data_flat :  (21000, 784)\n",
            "test_data_flat :  (9000, 784)\n",
            "(21000, 784)\n",
            "(9000, 784)\n",
            "(21000, 28)\n",
            "(9000, 28)\n"
          ],
          "name": "stdout"
        },
        {
          "output_type": "stream",
          "text": [
            "/usr/local/lib/python3.7/dist-packages/sklearn/neural_network/_multilayer_perceptron.py:571: ConvergenceWarning: Stochastic Optimizer: Maximum iterations (200) reached and the optimization hasn't converged yet.\n",
            "  % self.max_iter, ConvergenceWarning)\n"
          ],
          "name": "stderr"
        },
        {
          "output_type": "stream",
          "text": [
            "score :  0.8672222222222222\n",
            "Confusion Matrix:  [[699   5  22  30   6   3 130   0   5   0]\n",
            " [  2 876   1  14   3   0   4   0   0   0]\n",
            " [ 14   0 674   6 108   1  86   1  10   0]\n",
            " [ 28  13  16 778  32   0  31   0   2   0]\n",
            " [  3   1  64  27 729   0  65   0  10   1]\n",
            " [  1   0   0   0   0 848   0  34   2  15]\n",
            " [117   3  53  27  53   0 636   0  11   0]\n",
            " [  0   0   0   0   0  13   0 861   4  22]\n",
            " [  7   3   4   6   2  10  11   2 854   1]\n",
            " [  1   1   0   0   1   7   1  39   0 850]]\n",
            "score :  0.29244444444444445\n",
            "Confusion Matrix:  [[584  12  58  50  25  22 132   1   9   7]\n",
            " [ 28 507  13 333   7   5   5   0   2   0]\n",
            " [108  17 126  62 115  77  75   9 179 132]\n",
            " [185  99 178 219 145   8  61   2   3   0]\n",
            " [ 72  28 127  41 221  25 132  19 131 104]\n",
            " [  5   1  13  15   5 315  20 328 102  96]\n",
            " [215  18 110  61  76  65 168  11  60 116]\n",
            " [ 14  17   9   1  23 230   1 365 213  27]\n",
            " [ 13  37  56   9  85  78  90 122 117 293]\n",
            " [  0   0 123   0  76 289 137  56 209  10]]\n"
          ],
          "name": "stdout"
        },
        {
          "output_type": "stream",
          "text": [
            "/usr/local/lib/python3.7/dist-packages/sklearn/neural_network/_multilayer_perceptron.py:571: ConvergenceWarning: Stochastic Optimizer: Maximum iterations (200) reached and the optimization hasn't converged yet.\n",
            "  % self.max_iter, ConvergenceWarning)\n"
          ],
          "name": "stderr"
        },
        {
          "output_type": "stream",
          "text": [
            "score :  0.6336666666666667\n",
            "Confusion Matrix:  [[471   0  66  81  37  10  94   9  84  48]\n",
            " [  6 701   1 100   8   9   3  61   6   5]\n",
            " [ 77   1 438  14 112   8 140   4  96  10]\n",
            " [ 28 112  37 464  44  31  19 102  51  12]\n",
            " [ 46   8 153  88 390   6 133   9  50  17]\n",
            " [  5   9   1   5   2 709  15 128  11  15]\n",
            " [133   1 110  57 106  15 347   5 115  11]\n",
            " [  4  10   0  22   1  97   2 709   8  47]\n",
            " [ 19   3  22  36  15  15  35  21 731   3]\n",
            " [ 36   2   2   1   7  12  14  78   5 743]]\n"
          ],
          "name": "stdout"
        }
      ]
    }
  ]
}